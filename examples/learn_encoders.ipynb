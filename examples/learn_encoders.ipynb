{
 "metadata": {
  "name": "learn_encoders"
 },
 "nbformat": 3,
 "nbformat_minor": 0,
 "worksheets": [
  {
   "cells": [
    {
     "cell_type": "code",
     "collapsed": false,
     "input": [
      "import numpy as np\n",
      "np.random.seed(11)\n",
      "\n",
      "import matplotlib.pyplot as plt\n",
      "\n",
      "import nengo\n",
      "from nengo.utils.distributions import UniformHypersphere"
     ],
     "language": "python",
     "metadata": {},
     "outputs": []
    },
    {
     "cell_type": "code",
     "collapsed": false,
     "input": [
      "from scipy.linalg import sqrtm, inv\n",
      "\n",
      "def orthonormal(m):\n",
      "    return m.dot(inv(sqrtm(m.T.dot(m)))).real"
     ],
     "language": "python",
     "metadata": {},
     "outputs": []
    },
    {
     "cell_type": "code",
     "collapsed": false,
     "input": [
      "def epdist(d, dx=0.001):\n",
      "    \"\"\"Returns x and cpx such that probability of component <= x is cpx.\"\"\"\n",
      "    x = np.arange(-1+dx, 1, dx)\n",
      "    cpx = ((1 - x**2)**((d - 3)/2.0)).cumsum()\n",
      "    cpx = cpx / sum(cpx) / dx\n",
      "    return x, cpx\n",
      "\n",
      "def calculate_intercept(d, p):\n",
      "    \"\"\"Returns c such that np.dot(u, v) >= c with probability p.\n",
      "\n",
      "    Here, u and v are two randomly generated vectors of dimension d.\n",
      "    This works by the following formula, (1 - x**2)**((d - 3)/2.0), which\n",
      "    gives the probability that a coordinate of a random point on a\n",
      "    hypersphere is equal to x.\n",
      "\n",
      "    The probability distribution of the dot product of two randomly chosen\n",
      "    vectors is equivalent to the above, since we can always rotate the\n",
      "    sphere such that one of the vectors is a unit vector, and then the\n",
      "    dot product just becomes the component corresponding to that unit\n",
      "    vector.\n",
      "\n",
      "    This can be used to find the intercept such that a randomly generated\n",
      "    encoder will fire in response to a random input x with probability p.\n",
      "    \"\"\"\n",
      "    x, cpx = epdist(d)\n",
      "    return x[cpx >= 1 - p][0]\n",
      "\n",
      "def calculate_max_capacity(d, c):\n",
      "    \"\"\"Calculates what max_capacity should be to achieve desired intercept.\n",
      "\n",
      "    This is the inverse of calculate_intercept. Given some number of\n",
      "    dimensions d, returns the max_capacity such that\n",
      "    calculate_intercept(d, 1.0 / max_capacity) == c.\n",
      "    \"\"\"\n",
      "    x, cpx = epdist(d)\n",
      "    return 1.0 / (1 - cpx[x >= c][0])"
     ],
     "language": "python",
     "metadata": {},
     "outputs": []
    },
    {
     "cell_type": "code",
     "collapsed": false,
     "input": [
      "def encoders(ens, sim):\n",
      "    return sim.signals[sim.model.sig[ens]['encoders']] / (sim.data[ens].gain / ens.radius)[:, np.newaxis]"
     ],
     "language": "python",
     "metadata": {},
     "outputs": []
    },
    {
     "cell_type": "code",
     "collapsed": false,
     "input": [
      "def intercepts_graph(d, num_encoders, num_x):\n",
      "    sphere = UniformHypersphere(d, surface=True)\n",
      "    encoders = sphere.sample(num_encoders)\n",
      "    points = sphere.sample(num_x)\n",
      "    s = np.dot(encoders, points.T)\n",
      "    \n",
      "    n = 200\n",
      "    dx = 2.0 / n\n",
      "    x, cpx = epdist(dx)\n",
      "    \n",
      "    title(\"Unit Vector Dot Product Distribution\")\n",
      "    hist(s.flatten(), bins=n-1, normed=True, histtype='step')\n",
      "    plot(x, cpx, label='d=%d' % d, linewidth=2, alpha=0.7)\n",
      "    \n",
      "figure()\n",
      "xlabel(\"$x \\cdot e$\")\n",
      "ylabel(\"Probability Density\")\n",
      "xlim(-1, 1)\n",
      "ylim(0, 4)\n",
      "for d in (1, 2, 4, 8, 16, 32, 64):\n",
      "    intercepts_graph(d, 1000, 1000)\n",
      "legend()"
     ],
     "language": "python",
     "metadata": {},
     "outputs": []
    },
    {
     "cell_type": "code",
     "collapsed": false,
     "input": [
      "neurons_per_item = 100\n",
      "d_key = 3\n",
      "num_items = d_key * 2\n",
      "period = 2"
     ],
     "language": "python",
     "metadata": {},
     "outputs": []
    },
    {
     "cell_type": "code",
     "collapsed": false,
     "input": [
      "desired_intercept = np.cos(np.pi/4)\n",
      "max_capacity = calculate_max_capacity(d_key, desired_intercept)\n",
      "n = int(neurons_per_item * max_capacity)\n",
      "print n, max_capacity, desired_intercept\n",
      "\n",
      "keys = orthonormal(UniformHypersphere(d_key, surface=True).sample(d_key))\n",
      "keys = np.append(keys, -keys, axis=0)\n",
      "\n",
      "def iterate_periodically(l, period):\n",
      "    return lambda t: l[(t/period) % len(l)]"
     ],
     "language": "python",
     "metadata": {},
     "outputs": []
    },
    {
     "cell_type": "code",
     "collapsed": false,
     "input": [
      "m = nengo.Network()\n",
      "\n",
      "with m:\n",
      "    key = nengo.Node(output=iterate_periodically(keys, period))\n",
      "    ens = nengo.Ensemble(n, d_key, intercepts=[desired_intercept]*n)\n",
      "    \n",
      "    nengo.Connection(key, ens, learning_rule=nengo.Voja(learning_rate=5e-3))\n",
      "    \n",
      "    synapse = 0.05\n",
      "    p_key = nengo.Probe(key, synapse=synapse)\n",
      "    p_ens = nengo.Probe(ens, \"spikes\")\n"
     ],
     "language": "python",
     "metadata": {},
     "outputs": []
    },
    {
     "cell_type": "code",
     "collapsed": false,
     "input": [
      "sim = nengo.Simulator(m)\n",
      "encoders_before = encoders(ens, sim)\n",
      "sim.run(2*num_items)\n",
      "encoders_after = encoders(ens, sim)"
     ],
     "language": "python",
     "metadata": {},
     "outputs": []
    },
    {
     "cell_type": "code",
     "collapsed": false,
     "input": [
      "def proj(u, v):\n",
      "    return np.dot(u, v) / np.dot(u, u) * u\n",
      "\n",
      "def normalize(x):\n",
      "    return x / np.linalg.norm(x)\n",
      "\n",
      "def gram_schmidt(x):\n",
      "    r = []\n",
      "    for v in x:\n",
      "        e = v\n",
      "        for u in r:\n",
      "          e -= proj(u, v)\n",
      "        r.append(e)\n",
      "    return np.array([normalize(e) for e in r])"
     ],
     "language": "python",
     "metadata": {},
     "outputs": []
    },
    {
     "cell_type": "code",
     "collapsed": false,
     "input": [
      "from mpl_toolkits.mplot3d import Axes3D\n",
      "\n",
      "def plot_encoders(title, e, intercept=None):\n",
      "    fig = plt.figure(figsize=(8, 8))\n",
      "    fig.suptitle(title)\n",
      "    ax = plt.axes(projection='3d')\n",
      "    ax.set_xlim(-1, 1)\n",
      "    ax.set_ylim(-1, 1)\n",
      "    ax.set_zlim(-1, 1)\n",
      "    x, y, z = e.T\n",
      "    ax.scatter(x, y, z, c=x+y)\n",
      "    \n",
      "    if intercept is not None:\n",
      "        points = []\n",
      "        for key in keys:\n",
      "            radius = np.sqrt(1 - intercept**2)\n",
      "            circle = gram_schmidt(np.array([key, key+np.array([1, 0, 0]), key+np.array([0, 1, 0])]))\n",
      "            theta = np.arange(0, 2*np.pi, 0.05)\n",
      "            for x, y in zip(np.cos(theta), np.sin(theta)):\n",
      "                for r in np.arange(0, 1, 0.01):\n",
      "                    points.append(normalize(intercept*circle[0] + r*radius*(x*circle[1] + y*circle[2])))\n",
      "        x, y, z = zip(*points)\n",
      "        ax.scatter(x, y, z, s=5, c=x+y, alpha=0.05)\n",
      "    \n",
      "plot_encoders(\"Encoders Before\", encoders_before)\n",
      "plot_encoders(\"Encoders After\", encoders_after, desired_intercept)"
     ],
     "language": "python",
     "metadata": {},
     "outputs": []
    },
    {
     "cell_type": "code",
     "collapsed": false,
     "input": [
      "from nengo.utils.matplotlib import rasterplot\n",
      "\n",
      "plt.figure()\n",
      "plt.title('Key')\n",
      "plt.plot(sim.trange(), sim.data[p_key])\n",
      "\n",
      "plt.figure(figsize=(6, 16))\n",
      "plt.title('Spikes')\n",
      "_ = rasterplot(sim.trange(), sim.data[p_ens])"
     ],
     "language": "python",
     "metadata": {},
     "outputs": []
    }
   ],
   "metadata": {}
  }
 ]
}