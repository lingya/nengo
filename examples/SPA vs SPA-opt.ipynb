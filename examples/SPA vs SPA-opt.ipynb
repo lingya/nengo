{
 "metadata": {
  "name": "",
  "signature": "sha256:b3dc60bd26129f1e98f5ddf5bcfb6166e2a9dc959ed37f270e62766ad7cdabb6"
 },
 "nbformat": 3,
 "nbformat_minor": 0,
 "worksheets": [
  {
   "cells": [
    {
     "cell_type": "code",
     "collapsed": false,
     "input": [
      "import nengo\n",
      "import nengo.spaopt\n",
      "import numpy as np\n",
      "import matplotlib.pyplot as plt"
     ],
     "language": "python",
     "metadata": {},
     "outputs": [],
     "prompt_number": 1
    },
    {
     "cell_type": "code",
     "collapsed": false,
     "input": [
      "np.random.seed(324)"
     ],
     "language": "python",
     "metadata": {},
     "outputs": [],
     "prompt_number": 2
    },
    {
     "cell_type": "code",
     "collapsed": false,
     "input": [
      "def _normalize(x):\n",
      "    return x / np.linalg.norm(x)"
     ],
     "language": "python",
     "metadata": {},
     "outputs": [],
     "prompt_number": 3
    },
    {
     "cell_type": "heading",
     "level": 1,
     "metadata": {},
     "source": [
      "Dot Product"
     ]
    },
    {
     "cell_type": "code",
     "collapsed": false,
     "input": [
      "d = 64\n",
      "n_neurons_per_dim = 30\n",
      "\n",
      "v1 = _normalize(np.random.randn(d))\n",
      "v2 = _normalize(np.random.randn(d))\n",
      "\n",
      "model = nengo.Network(seed=3359)\n",
      "with model:\n",
      "    in_a = nengo.Node(output=v1)\n",
      "    in_b = nengo.Node(\n",
      "        output=lambda t: _normalize(np.sin(t) * v2 + (1 - np.sin(t)) * v1))\n",
      "    \n",
      "    old_prod = nengo.networks.Product(n_neurons_per_dim, d)\n",
      "    old_result = nengo.Ensemble(\n",
      "        n_neurons=1, dimensions=1, neuron_type=nengo.Direct())\n",
      "    nengo.Connection(in_a, old_prod.A)\n",
      "    nengo.Connection(in_b, old_prod.B)\n",
      "    nengo.Connection(\n",
      "        old_prod.output, old_result, transform=old_prod.dot_product_transform())\n",
      "    \n",
      "    prod = nengo.spaopt.Product(n_neurons_per_dim, d)\n",
      "    result = nengo.Ensemble(\n",
      "        n_neurons=1, dimensions=1, neuron_type=nengo.Direct())\n",
      "    nengo.Connection(in_a, prod.A)\n",
      "    nengo.Connection(in_b, prod.B)\n",
      "    nengo.Connection(\n",
      "        prod.output, result, transform=prod.dot_product_transform())\n",
      "\n",
      "    ddot = nengo.networks.EnsembleArray(\n",
      "        2, d, 2, neuron_type=nengo.Direct())\n",
      "    dresult = nengo.Ensemble(\n",
      "        n_neurons=1, dimensions=1, neuron_type=nengo.Direct())\n",
      "    nengo.Connection(in_a, ddot.input[::2])\n",
      "    nengo.Connection(in_b, ddot.input[1::2])\n",
      "    nengo.Connection(\n",
      "        ddot.add_output('dot', lambda x: x[0] * x[1]), dresult,\n",
      "        transform=[d * [1.0]])\n",
      "\n",
      "    old_probe = nengo.Probe(old_result, synapse=0.01)\n",
      "    probe = nengo.Probe(result, synapse=0.01)\n",
      "    dprobe = nengo.Probe(dresult, synapse=0.01)"
     ],
     "language": "python",
     "metadata": {},
     "outputs": []
    },
    {
     "cell_type": "code",
     "collapsed": false,
     "input": [
      "sim = nengo.Simulator(model)\n",
      "sim.run(2 * np.pi)"
     ],
     "language": "python",
     "metadata": {},
     "outputs": []
    },
    {
     "cell_type": "code",
     "collapsed": false,
     "input": [
      "plt.plot(sim.trange(), sim.data[old_probe], label=\"default\")\n",
      "plt.plot(sim.trange(), sim.data[probe], label=\"optimized\")\n",
      "plt.plot(sim.trange(), sim.data[dprobe], label=\"direct\")\n",
      "plt.legend(loc='best')\n",
      "plt.xlabel(\"t (s)\")\n",
      "plt.xlim(0, 2 * np.pi)\n",
      "plt.title(\"Dot product\")"
     ],
     "language": "python",
     "metadata": {},
     "outputs": []
    },
    {
     "cell_type": "heading",
     "level": 1,
     "metadata": {},
     "source": [
      "Circular Convolution"
     ]
    },
    {
     "cell_type": "code",
     "collapsed": false,
     "input": [
      "d = 64\n",
      "n_neurons_per_dim = 50\n",
      "vocab = nengo.spa.Vocabulary(d)\n",
      "vocab.parse('A+B')"
     ],
     "language": "python",
     "metadata": {},
     "outputs": []
    },
    {
     "cell_type": "code",
     "collapsed": false,
     "input": [
      "model = nengo.Network(seed=436)\n",
      "with model:\n",
      "    in_a = nengo.Node(output=vocab['A'].v)\n",
      "    in_b = nengo.Node(output=vocab['B'].v)\n",
      "    \n",
      "    old_cconv = nengo.networks.CircularConvolution(n_neurons_per_dim, d)\n",
      "    old_result = nengo.Ensemble(1, d, neuron_type=nengo.Direct())\n",
      "    nengo.Connection(in_a, old_cconv.A)\n",
      "    nengo.Connection(in_b, old_cconv.B)\n",
      "    nengo.Connection(old_cconv.output, old_result)\n",
      "    \n",
      "    cconv = nengo.spaopt.CircularConvolution(n_neurons_per_dim, d)\n",
      "    result = nengo.Ensemble(1, d, neuron_type=nengo.Direct())\n",
      "    nengo.Connection(in_a, cconv.A)\n",
      "    nengo.Connection(in_b, cconv.B)\n",
      "    nengo.Connection(cconv.output, result)\n",
      "    \n",
      "    d_cconv = nengo.networks.CircularConvolution(1, d, neuron_type=nengo.Direct())\n",
      "    d_result = nengo.Ensemble(1, d, neuron_type=nengo.Direct())\n",
      "    nengo.Connection(in_a, d_cconv.A)\n",
      "    nengo.Connection(in_b, d_cconv.B)\n",
      "    nengo.Connection(d_cconv.output, d_result)\n",
      "    \n",
      "    old_probe = nengo.Probe(old_result, synapse=0.01)\n",
      "    probe = nengo.Probe(result, synapse=0.01)\n",
      "    d_probe = nengo.Probe(d_result, synapse=0.01)"
     ],
     "language": "python",
     "metadata": {},
     "outputs": []
    },
    {
     "cell_type": "code",
     "collapsed": false,
     "input": [
      "sim = nengo.Simulator(model)\n",
      "sim.run(0.5)"
     ],
     "language": "python",
     "metadata": {},
     "outputs": []
    },
    {
     "cell_type": "code",
     "collapsed": false,
     "input": [
      "ground_truth = vocab.parse('A*B')\n",
      "plt.plot(sim.trange(), ground_truth.dot(sim.data[old_probe].T).T, label=\"default\")\n",
      "plt.plot(sim.trange(), ground_truth.dot(sim.data[probe].T).T, label=\"optimized\")\n",
      "plt.plot(sim.trange(), ground_truth.dot(sim.data[d_probe].T).T, label=\"direct\")\n",
      "plt.legend(loc='best')\n",
      "plt.xlabel(\"t (s)\")\n",
      "plt.title(\"Circular convolution\")"
     ],
     "language": "python",
     "metadata": {},
     "outputs": []
    },
    {
     "cell_type": "heading",
     "level": 1,
     "metadata": {},
     "source": [
      "Memory"
     ]
    },
    {
     "cell_type": "code",
     "collapsed": false,
     "input": [
      "d = 128\n",
      "n_neurons_per_dim = 32\n",
      "vocab = nengo.spa.Vocabulary(d)\n",
      "vocab.parse('A')"
     ],
     "language": "python",
     "metadata": {},
     "outputs": []
    },
    {
     "cell_type": "code",
     "collapsed": false,
     "input": [
      "class MemTest(nengo.spa.SPA):\n",
      "    def __init__(self):\n",
      "        super(MemTest, self).__init__()\n",
      "        self.old_mem = nengo.spa.Memory(d, n_neurons_per_dim)\n",
      "        self.mem = nengo.spaopt.Memory(d, n_neurons_per_dim)\n",
      "        \n",
      "        def inpfn(t):\n",
      "            if t < 0.01:\n",
      "                return 'A'\n",
      "            else:\n",
      "                return '0'\n",
      "        self.input = nengo.spa.Input(old_mem=inpfn, mem=inpfn)\n",
      "        \n",
      "model = MemTest(seed=243)\n",
      "old_mem, vocab = model.get_module_output('old_mem')\n",
      "mem, vocab = model.get_module_output('mem')\n",
      "\n",
      "with model:\n",
      "    op = nengo.Probe(old_mem, 'output', synapse=0.005)\n",
      "    p = nengo.Probe(mem, 'output', synapse=0.005)"
     ],
     "language": "python",
     "metadata": {},
     "outputs": []
    },
    {
     "cell_type": "code",
     "collapsed": false,
     "input": [
      "sim = nengo.Simulator(model)\n",
      "sim.run(0.5)"
     ],
     "language": "python",
     "metadata": {},
     "outputs": []
    },
    {
     "cell_type": "code",
     "collapsed": false,
     "input": [
      "ground_truth = vocab.parse('A')\n",
      "plt.plot(sim.trange(), ground_truth.dot(sim.data[op].T / np.linalg.norm(sim.data[op].T, axis=0)).T, label=\"default\")\n",
      "plt.plot(sim.trange(), ground_truth.dot(sim.data[p].T / np.linalg.norm(sim.data[p].T, axis=0)).T, label=\"optimized\")\n",
      "plt.legend(loc='best')\n",
      "plt.xlabel(\"t (s)\")\n",
      "plt.title(\"Memory\")"
     ],
     "language": "python",
     "metadata": {},
     "outputs": []
    },
    {
     "cell_type": "code",
     "collapsed": false,
     "input": [],
     "language": "python",
     "metadata": {},
     "outputs": []
    }
   ],
   "metadata": {}
  }
 ]
}