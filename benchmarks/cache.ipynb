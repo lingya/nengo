{
 "metadata": {
  "name": "",
  "signature": "sha256:a6d145a660924e6d00670b9d6ed5e7b72268042dfb78135994bb510e7a35a16d"
 },
 "nbformat": 3,
 "nbformat_minor": 0,
 "worksheets": [
  {
   "cells": [
    {
     "cell_type": "code",
     "collapsed": false,
     "input": [
      "import timeit"
     ],
     "language": "python",
     "metadata": {},
     "outputs": [],
     "prompt_number": 13
    },
    {
     "cell_type": "code",
     "collapsed": false,
     "input": [
      "trials = 5"
     ],
     "language": "python",
     "metadata": {},
     "outputs": [],
     "prompt_number": 14
    },
    {
     "cell_type": "heading",
     "level": 1,
     "metadata": {},
     "source": [
      "Timing Functions"
     ]
    },
    {
     "cell_type": "code",
     "collapsed": false,
     "input": [
      "def time_without_cache(M, N, D):\n",
      "    print 'Timing', M, N, D\n",
      "    setup = '''\n",
      "import numpy as np\n",
      "import nengo\n",
      "import nengo.cache\n",
      "nengo.cache.disable_caching()\n",
      "\n",
      "model = nengo.Network(label=\"without cache\", seed=1)\n",
      "with model:\n",
      "    a = nengo.Ensemble(nengo.LIF({N}), dimensions={D})\n",
      "    b = nengo.Ensemble(nengo.LIF({N}), dimensions={D})\n",
      "    conn = nengo.Connection(a, b, eval_points={M})\n",
      "'''.format(M=M, N=N, D=D)\n",
      "    stmt = 'sim = nengo.Simulator(model)'\n",
      "    return timeit.repeat(stmt, setup, number=1, repeat=trials)"
     ],
     "language": "python",
     "metadata": {},
     "outputs": [],
     "prompt_number": 15
    },
    {
     "cell_type": "code",
     "collapsed": false,
     "input": [
      "def time_with_cache_miss(M, N, D):\n",
      "    print 'Timing', M, N, D\n",
      "    setup = '''\n",
      "import numpy as np\n",
      "import nengo\n",
      "import nengo.cache\n",
      "nengo.cache.enable_caching()\n",
      "\n",
      "model = nengo.Network(label=\"without cache\", seed=1)\n",
      "with model:\n",
      "    a = nengo.Ensemble(nengo.LIF({N}), dimensions={D})\n",
      "    b = nengo.Ensemble(nengo.LIF({N}), dimensions={D})\n",
      "    conn = nengo.Connection(a, b, eval_points={M})\n",
      "'''.format(M=M, N=N, D=D)\n",
      "    stmt = 'nengo.cache.cache_decoder.invalidate(); sim = nengo.Simulator(model)'\n",
      "    return timeit.repeat(stmt, setup, number=1, repeat=trials)"
     ],
     "language": "python",
     "metadata": {},
     "outputs": [],
     "prompt_number": 16
    },
    {
     "cell_type": "code",
     "collapsed": false,
     "input": [
      "def time_with_cache_hit(M, N, D):\n",
      "    print 'Timing', M, N, D\n",
      "    setup = '''\n",
      "import numpy as np\n",
      "import nengo\n",
      "import nengo.cache\n",
      "nengo.cache.enable_caching()\n",
      "\n",
      "model = nengo.Network(label=\"without cache\", seed=1)\n",
      "with model:\n",
      "    a = nengo.Ensemble(nengo.LIF({N}), dimensions={D})\n",
      "    b = nengo.Ensemble(nengo.LIF({N}), dimensions={D})\n",
      "    conn = nengo.Connection(a, b, eval_points={M})\n",
      "sim = nengo.Simulator(model)\n",
      "'''.format(M=M, N=N, D=D)\n",
      "    stmt = 'sim = nengo.Simulator(model, seed=1)'\n",
      "    return timeit.repeat(stmt, setup, number=1, repeat=trials)"
     ],
     "language": "python",
     "metadata": {},
     "outputs": [],
     "prompt_number": 17
    },
    {
     "cell_type": "heading",
     "level": 1,
     "metadata": {},
     "source": [
      "Varying $M$ (number of evaluation points)"
     ]
    },
    {
     "cell_type": "code",
     "collapsed": false,
     "input": [
      "D = 10\n",
      "N = 1500\n",
      "Ms = np.asarray(np.linspace(250, 5000, 15), dtype=int)"
     ],
     "language": "python",
     "metadata": {},
     "outputs": [],
     "prompt_number": 18
    },
    {
     "cell_type": "code",
     "collapsed": false,
     "input": [
      "no_cache = np.array([time_without_cache(M, N, D) for M in Ms])\n",
      "cache_miss = np.array([time_with_cache_miss(M, N, D) for M in Ms])\n",
      "cache_hit = np.array([time_with_cache_hit(M, N, D) for M in Ms])"
     ],
     "language": "python",
     "metadata": {},
     "outputs": [],
     "prompt_number": 19
    },
    {
     "cell_type": "code",
     "collapsed": false,
     "input": [
      "plt.figure()\n",
      "plt.errorbar(Ms, np.mean(no_cache, axis=1), np.std(no_cache, axis=1) / trials, label=\"no cache\")\n",
      "plt.errorbar(Ms, np.mean(cache_miss, axis=1), np.std(cache_miss, axis=1) / trials, label=\"cache miss\")\n",
      "plt.errorbar(Ms, np.mean(cache_hit, axis=1), np.std(cache_hit, axis=1) / trials, label=\"cache hit\")\n",
      "plt.xlabel(\"Number of evaluation points\")\n",
      "plt.ylabel(\"Build time [s]\")\n",
      "plt.legend(loc='best')"
     ],
     "language": "python",
     "metadata": {},
     "outputs": [],
     "prompt_number": 22
    },
    {
     "cell_type": "heading",
     "level": 1,
     "metadata": {},
     "source": [
      "Varying $N$ (number of neurons)"
     ]
    },
    {
     "cell_type": "code",
     "collapsed": false,
     "input": [
      "D = 10\n",
      "Ns = np.asarray(np.logspace(1, 4, 10), dtype=int)\n",
      "M = 1500"
     ],
     "language": "python",
     "metadata": {},
     "outputs": [],
     "prompt_number": 23
    },
    {
     "cell_type": "code",
     "collapsed": false,
     "input": [
      "no_cache = np.array([time_without_cache(M, N, D) for N in Ns])\n",
      "cache_miss = np.array([time_with_cache_miss(M, N, D) for N in Ns])\n",
      "cache_hit = np.array([time_with_cache_hit(M, N, D) for N in Ns])"
     ],
     "language": "python",
     "metadata": {},
     "outputs": [],
     "prompt_number": 24
    },
    {
     "cell_type": "code",
     "collapsed": false,
     "input": [
      "plt.figure()\n",
      "plt.errorbar(Ns, np.mean(no_cache, axis=1), np.std(no_cache, axis=1) / trials, label=\"no cache\")\n",
      "plt.errorbar(Ns, np.mean(cache_miss, axis=1), np.std(cache_miss, axis=1) / trials, label=\"cache miss\")\n",
      "plt.errorbar(Ns, np.mean(cache_hit, axis=1), np.std(cache_hit, axis=1) / trials, label=\"cache hit\")\n",
      "plt.xlabel(\"Number of neurons\")\n",
      "plt.ylabel(\"Build time [s]\")\n",
      "plt.legend(loc='best')"
     ],
     "language": "python",
     "metadata": {},
     "outputs": [],
     "prompt_number": 26
    },
    {
     "cell_type": "code",
     "collapsed": false,
     "input": [
      "print (np.mean(cache_miss, axis=1) - np.mean(no_cache, axis=1)) / (np.mean(no_cache, axis=1) - np.mean(cache_hit, axis=1))"
     ],
     "language": "python",
     "metadata": {},
     "outputs": [],
     "prompt_number": 30
    },
    {
     "cell_type": "heading",
     "level": 1,
     "metadata": {},
     "source": [
      "Varying $D$ (number of dimensions)"
     ]
    },
    {
     "cell_type": "code",
     "collapsed": false,
     "input": [
      "Ds = np.asarray(np.logspace(1, 4, 5), dtype=int)\n",
      "N = 1000\n",
      "M = 1500"
     ],
     "language": "python",
     "metadata": {},
     "outputs": [],
     "prompt_number": 34
    },
    {
     "cell_type": "code",
     "collapsed": false,
     "input": [
      "no_cache = np.array([time_without_cache(M, N, D) for D in Ds])\n",
      "cache_miss = np.array([time_with_cache_miss(M, N, D) for D in Ds])\n",
      "cache_hit = np.array([time_with_cache_hit(M, N, D) for D in Ds])"
     ],
     "language": "python",
     "metadata": {},
     "outputs": [],
     "prompt_number": 35
    },
    {
     "cell_type": "code",
     "collapsed": false,
     "input": [
      "plt.figure()\n",
      "plt.errorbar(Ds, np.mean(no_cache, axis=1), np.std(no_cache, axis=1) / trials, label=\"no cache\")\n",
      "plt.errorbar(Ds, np.mean(cache_miss, axis=1), np.std(cache_miss, axis=1) / trials, label=\"cache miss\")\n",
      "plt.errorbar(Ds, np.mean(cache_hit, axis=1), np.std(cache_hit, axis=1) / trials, label=\"cache hit\")\n",
      "plt.xlabel(\"Number of dimensions\")\n",
      "plt.ylabel(\"Build time [s]\")\n",
      "plt.legend(loc='best')"
     ],
     "language": "python",
     "metadata": {},
     "outputs": [],
     "prompt_number": 36
    },
    {
     "cell_type": "code",
     "collapsed": false,
     "input": [],
     "language": "python",
     "metadata": {},
     "outputs": []
    }
   ],
   "metadata": {}
  }
 ]
}